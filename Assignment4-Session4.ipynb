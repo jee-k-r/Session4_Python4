{
 "cells": [
  {
   "cell_type": "code",
   "execution_count": 3,
   "metadata": {},
   "outputs": [
    {
     "name": "stdout",
     "output_type": "stream",
     "text": [
      "Enter length of Side 1: 89\n",
      "Enter length of Side 2: 85\n",
      "Enter length of Side 3: 25\n",
      "Area of the Triangle :  1062.3517249480042\n"
     ]
    }
   ],
   "source": [
    "'''1.1 Write a Python Program(with class concepts) to find the area of the triangle using the below\n",
    "formula.\n",
    "area = (s*(s-a)*(s-b)*(s-c)) ** 0.5\n",
    "Function to take the length of the sides of triangle from user should be defined in the parent\n",
    "class and function to calculate the area should be defined in subclass.'''\n",
    "class Triangle:\n",
    "    def __init__(self):\n",
    "        pass\n",
    "    \n",
    "    def length_sides(self):\n",
    "        self.side1 = float(input('Enter length of Side 1: '))\n",
    "        self.side2 = float(input('Enter length of Side 2: '))\n",
    "        self.side3 = float(input('Enter length of Side 3: '))  \n",
    "        \n",
    "class TriangleArea(Triangle):\n",
    "    def __init__(self):        \n",
    "        super().__init__()        \n",
    "    \n",
    "    def get_area(self):    \n",
    "        #return the area of the triangle using the semi-perimeter method\n",
    "        Triangle.length_sides(self)\n",
    "        a,b,c = self.side1, self.side2,self.side3               \n",
    "        # calculate the semi-perimeter\n",
    "        s = float((a+b+c) / 2 )\n",
    "        return (s*(s-a)*(s-b)*(s-c)) ** 0.5\n",
    "    \n",
    "ta = TriangleArea()\n",
    "print('Area of the Triangle : ', ta.get_area())"
   ]
  },
  {
   "cell_type": "code",
   "execution_count": 8,
   "metadata": {},
   "outputs": [
    {
     "name": "stdout",
     "output_type": "stream",
     "text": [
      "['poetry', 'sonnet']\n"
     ]
    }
   ],
   "source": [
    "#Write a function filter_long_words() that takes a list of words and an integer n and returns\n",
    "#the list of words that are longer than n.\n",
    "\n",
    "def filter_long_words(words,n):\n",
    "    return [word for word in words if len(word) > n ]\n",
    "\n",
    "print(filter_long_words(['drama','novel','poetry','sonnet'], 5))"
   ]
  },
  {
   "cell_type": "code",
   "execution_count": 10,
   "metadata": {},
   "outputs": [
    {
     "name": "stdout",
     "output_type": "stream",
     "text": [
      "[2, 3, 4]\n"
     ]
    }
   ],
   "source": [
    "'''\n",
    "Write a Python program using function concept that maps list of words into a list of integers\n",
    "representing the lengths of the corresponding words .\n",
    "Hint: If a list [ ab,cde,erty] is passed on to the python function output should come as [2,3,4]\n",
    "Here 2,3 and 4 are the lengths of the words in the list.\n",
    "'''\n",
    "\n",
    "def map_words_to_integer(words):\n",
    "    return list(map(len,words))\n",
    "    \n",
    "\n",
    "print(map_words_to_integer([ 'ab','cde','erty']))\n",
    "\n",
    "\n"
   ]
  },
  {
   "cell_type": "code",
   "execution_count": 11,
   "metadata": {},
   "outputs": [
    {
     "name": "stdout",
     "output_type": "stream",
     "text": [
      "False\n",
      "True\n",
      "True\n",
      "False\n"
     ]
    }
   ],
   "source": [
    "#Write a Python function which takes a character (i.e. a string of length 1) and returns True if\n",
    "#it is a vowel, False otherwise.\n",
    "\n",
    "def is_vowel(char):\n",
    "    vowellist = ['a', 'e', 'i', 'o', 'u']\n",
    "    \n",
    "    if char.lower() in vowellist:\n",
    "        return True\n",
    "    else:\n",
    "        return False\n",
    "\n",
    "    \n",
    "print(is_vowel('b'))\n",
    "print(is_vowel('a'))\n",
    "\n",
    "print(is_vowel('O'))\n",
    "\n",
    "print(is_vowel('T'))\n"
   ]
  },
  {
   "cell_type": "code",
   "execution_count": null,
   "metadata": {},
   "outputs": [],
   "source": []
  }
 ],
 "metadata": {
  "kernelspec": {
   "display_name": "Python 3",
   "language": "python",
   "name": "python3"
  },
  "language_info": {
   "codemirror_mode": {
    "name": "ipython",
    "version": 3
   },
   "file_extension": ".py",
   "mimetype": "text/x-python",
   "name": "python",
   "nbconvert_exporter": "python",
   "pygments_lexer": "ipython3",
   "version": "3.7.0"
  }
 },
 "nbformat": 4,
 "nbformat_minor": 2
}
